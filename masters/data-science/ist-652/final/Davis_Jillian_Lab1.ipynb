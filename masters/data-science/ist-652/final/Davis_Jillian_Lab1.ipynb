{
 "cells": [
  {
   "cell_type": "code",
   "execution_count": null,
   "id": "5a7bf077",
   "metadata": {},
   "outputs": [],
   "source": [
    "# Write a program to print the cube of all numbers from 1 to 6\n",
    "# Use a loop (either a for or while loop) to go through the numbers and print out the cube of each number."
   ]
  },
  {
   "cell_type": "code",
   "execution_count": 2,
   "id": "7770666a",
   "metadata": {},
   "outputs": [
    {
     "name": "stdout",
     "output_type": "stream",
     "text": [
      "1 cube is 1\n",
      "2 cube is 8\n",
      "3 cube is 27\n",
      "4 cube is 64\n",
      "5 cube is 125\n",
      "6 cube is 216\n"
     ]
    }
   ],
   "source": [
    "for num in range(1,7):\n",
    "    cube = num ** 3\n",
    "    print(f'{num} cube is {cube}')"
   ]
  },
  {
   "cell_type": "code",
   "execution_count": null,
   "id": "7a183673",
   "metadata": {},
   "outputs": [],
   "source": []
  }
 ],
 "metadata": {
  "kernelspec": {
   "display_name": "Python 3",
   "language": "python",
   "name": "python3"
  },
  "language_info": {
   "codemirror_mode": {
    "name": "ipython",
    "version": 3
   },
   "file_extension": ".py",
   "mimetype": "text/x-python",
   "name": "python",
   "nbconvert_exporter": "python",
   "pygments_lexer": "ipython3",
   "version": "3.8.8"
  }
 },
 "nbformat": 4,
 "nbformat_minor": 5
}
