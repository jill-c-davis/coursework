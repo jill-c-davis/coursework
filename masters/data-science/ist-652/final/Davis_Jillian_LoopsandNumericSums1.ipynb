{
 "cells": [
  {
   "cell_type": "code",
   "execution_count": null,
   "id": "3691d4bc",
   "metadata": {},
   "outputs": [],
   "source": [
    "'''Consider the following two dictionaries:\n",
    "\n",
    "stock = {\"banana\":6,\"apple\":0,\"orange\":32,\"pear\":15}\n",
    "\n",
    "prices = {\"banana\":4,\"apple\":2,\"orange\":1.5,\"pear\":3}\n",
    "\n",
    "Show the expression that gets the value of the stock dictionary at the key \"orange\". Add another item to the dictionary (\"cherry\", 14).\n",
    "Write the code for a loop that iterates over the stock dictionary and prints each key and value.'''"
   ]
  },
  {
   "cell_type": "code",
   "execution_count": null,
   "id": "2b6dc582",
   "metadata": {},
   "outputs": [],
   "source": [
    "# Create the dictionaries"
   ]
  },
  {
   "cell_type": "code",
   "execution_count": 1,
   "id": "a1c21259",
   "metadata": {},
   "outputs": [],
   "source": [
    "stock = {\"banana\":6,\"apple\":0,\"orange\":32,\"pear\":15}"
   ]
  },
  {
   "cell_type": "code",
   "execution_count": 2,
   "id": "efbdd2a0",
   "metadata": {},
   "outputs": [],
   "source": [
    "prices = {\"banana\":4,\"apple\":2,\"orange\":1.5,\"pear\":3}"
   ]
  },
  {
   "cell_type": "code",
   "execution_count": null,
   "id": "7be05ef7",
   "metadata": {},
   "outputs": [],
   "source": [
    "# Show the expression that gets the value of the stock dictionary at the key \"orange\"."
   ]
  },
  {
   "cell_type": "code",
   "execution_count": 3,
   "id": "57b30e59",
   "metadata": {},
   "outputs": [
    {
     "name": "stdout",
     "output_type": "stream",
     "text": [
      "32\n"
     ]
    }
   ],
   "source": [
    "print (stock['orange'])"
   ]
  },
  {
   "cell_type": "code",
   "execution_count": null,
   "id": "82b947c9",
   "metadata": {},
   "outputs": [],
   "source": [
    "# Add another item to the dictionary (\"cherry\", 14)."
   ]
  },
  {
   "cell_type": "code",
   "execution_count": 4,
   "id": "abc1f5ef",
   "metadata": {},
   "outputs": [],
   "source": [
    "stock['cherry']=14"
   ]
  },
  {
   "cell_type": "code",
   "execution_count": 5,
   "id": "45dd62c7",
   "metadata": {},
   "outputs": [],
   "source": [
    "# Write the code for a loop that iterates over the stock dictionary and prints each key and value."
   ]
  },
  {
   "cell_type": "code",
   "execution_count": 6,
   "id": "fc38e035",
   "metadata": {},
   "outputs": [
    {
     "name": "stdout",
     "output_type": "stream",
     "text": [
      "banana 6\n",
      "apple 0\n",
      "orange 32\n",
      "pear 15\n",
      "cherry 14\n"
     ]
    }
   ],
   "source": [
    "for key in stock:\n",
    "    print(key, stock[key])"
   ]
  }
 ],
 "metadata": {
  "kernelspec": {
   "display_name": "Python 3",
   "language": "python",
   "name": "python3"
  },
  "language_info": {
   "codemirror_mode": {
    "name": "ipython",
    "version": 3
   },
   "file_extension": ".py",
   "mimetype": "text/x-python",
   "name": "python",
   "nbconvert_exporter": "python",
   "pygments_lexer": "ipython3",
   "version": "3.8.8"
  }
 },
 "nbformat": 4,
 "nbformat_minor": 5
}
